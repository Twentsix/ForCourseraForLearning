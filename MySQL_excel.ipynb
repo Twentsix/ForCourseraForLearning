{
 "cells": [
  {
   "cell_type": "markdown",
   "id": "6df21a44-a36c-49eb-bf6c-bae85544662d",
   "metadata": {},
   "source": [
    "# Analyzing 10 MySQL Database Performance"
   ]
  },
  {
   "cell_type": "markdown",
   "id": "a2f4631c-8356-42ff-a207-628382624925",
   "metadata": {},
   "source": [
    "## The Dataset: 10 MySQL Databases from January, 2024"
   ]
  },
  {
   "cell_type": "markdown",
   "id": "ae889ff4-0d78-4837-950a-d3b119218dcd",
   "metadata": {},
   "source": [
    "File: mysql_db.xlsx"
   ]
  },
  {
   "cell_type": "markdown",
   "id": "06f7afd4-9239-4a2c-b494-1c1d6acd53b1",
   "metadata": {},
   "source": [
    "Questions:\n",
    "1. What's the performances of each 10 MySQL databases?\n",
    "2. Which database with the performance above the threshold(85%)?"
   ]
  },
  {
   "cell_type": "markdown",
   "id": "006e1bab-9073-42c8-a392-91b1b88e6a9a",
   "metadata": {},
   "source": [
    "### 1. Requirement"
   ]
  },
  {
   "cell_type": "code",
   "execution_count": 12,
   "id": "bf6a8c8b-2f9c-4fdd-bb8e-62537bc3c21d",
   "metadata": {
    "collapsed": true,
    "jupyter": {
     "outputs_hidden": true
    }
   },
   "outputs": [
    {
     "name": "stdout",
     "output_type": "stream",
     "text": [
      "Requirement already satisfied: openpyxl in c:\\users\\yogyawan.iskandar\\appdata\\local\\programs\\python\\python312\\lib\\site-packages (3.1.2)\n",
      "Requirement already satisfied: et-xmlfile in c:\\users\\yogyawan.iskandar\\appdata\\local\\programs\\python\\python312\\lib\\site-packages (from openpyxl) (1.1.0)\n",
      "Requirement already satisfied: matplotlib in c:\\users\\yogyawan.iskandar\\appdata\\local\\programs\\python\\python312\\lib\\site-packages (3.8.3)\n",
      "Requirement already satisfied: contourpy>=1.0.1 in c:\\users\\yogyawan.iskandar\\appdata\\local\\programs\\python\\python312\\lib\\site-packages (from matplotlib) (1.2.0)\n",
      "Requirement already satisfied: cycler>=0.10 in c:\\users\\yogyawan.iskandar\\appdata\\local\\programs\\python\\python312\\lib\\site-packages (from matplotlib) (0.12.1)\n",
      "Requirement already satisfied: fonttools>=4.22.0 in c:\\users\\yogyawan.iskandar\\appdata\\local\\programs\\python\\python312\\lib\\site-packages (from matplotlib) (4.49.0)\n",
      "Requirement already satisfied: kiwisolver>=1.3.1 in c:\\users\\yogyawan.iskandar\\appdata\\local\\programs\\python\\python312\\lib\\site-packages (from matplotlib) (1.4.5)\n",
      "Requirement already satisfied: numpy<2,>=1.21 in c:\\users\\yogyawan.iskandar\\appdata\\local\\programs\\python\\python312\\lib\\site-packages (from matplotlib) (1.26.4)\n",
      "Requirement already satisfied: packaging>=20.0 in c:\\users\\yogyawan.iskandar\\appdata\\local\\programs\\python\\python312\\lib\\site-packages (from matplotlib) (23.2)\n",
      "Requirement already satisfied: pillow>=8 in c:\\users\\yogyawan.iskandar\\appdata\\local\\programs\\python\\python312\\lib\\site-packages (from matplotlib) (10.2.0)\n",
      "Requirement already satisfied: pyparsing>=2.3.1 in c:\\users\\yogyawan.iskandar\\appdata\\local\\programs\\python\\python312\\lib\\site-packages (from matplotlib) (3.1.2)\n",
      "Requirement already satisfied: python-dateutil>=2.7 in c:\\users\\yogyawan.iskandar\\appdata\\local\\programs\\python\\python312\\lib\\site-packages (from matplotlib) (2.8.2)\n",
      "Requirement already satisfied: six>=1.5 in c:\\users\\yogyawan.iskandar\\appdata\\local\\programs\\python\\python312\\lib\\site-packages (from python-dateutil>=2.7->matplotlib) (1.16.0)\n",
      "Collecting seaborn\n",
      "  Downloading seaborn-0.13.2-py3-none-any.whl.metadata (5.4 kB)\n",
      "Requirement already satisfied: numpy!=1.24.0,>=1.20 in c:\\users\\yogyawan.iskandar\\appdata\\local\\programs\\python\\python312\\lib\\site-packages (from seaborn) (1.26.4)\n",
      "Requirement already satisfied: pandas>=1.2 in c:\\users\\yogyawan.iskandar\\appdata\\local\\programs\\python\\python312\\lib\\site-packages (from seaborn) (2.2.1)\n",
      "Requirement already satisfied: matplotlib!=3.6.1,>=3.4 in c:\\users\\yogyawan.iskandar\\appdata\\local\\programs\\python\\python312\\lib\\site-packages (from seaborn) (3.8.3)\n",
      "Requirement already satisfied: contourpy>=1.0.1 in c:\\users\\yogyawan.iskandar\\appdata\\local\\programs\\python\\python312\\lib\\site-packages (from matplotlib!=3.6.1,>=3.4->seaborn) (1.2.0)\n",
      "Requirement already satisfied: cycler>=0.10 in c:\\users\\yogyawan.iskandar\\appdata\\local\\programs\\python\\python312\\lib\\site-packages (from matplotlib!=3.6.1,>=3.4->seaborn) (0.12.1)\n",
      "Requirement already satisfied: fonttools>=4.22.0 in c:\\users\\yogyawan.iskandar\\appdata\\local\\programs\\python\\python312\\lib\\site-packages (from matplotlib!=3.6.1,>=3.4->seaborn) (4.49.0)\n",
      "Requirement already satisfied: kiwisolver>=1.3.1 in c:\\users\\yogyawan.iskandar\\appdata\\local\\programs\\python\\python312\\lib\\site-packages (from matplotlib!=3.6.1,>=3.4->seaborn) (1.4.5)\n",
      "Requirement already satisfied: packaging>=20.0 in c:\\users\\yogyawan.iskandar\\appdata\\local\\programs\\python\\python312\\lib\\site-packages (from matplotlib!=3.6.1,>=3.4->seaborn) (23.2)\n",
      "Requirement already satisfied: pillow>=8 in c:\\users\\yogyawan.iskandar\\appdata\\local\\programs\\python\\python312\\lib\\site-packages (from matplotlib!=3.6.1,>=3.4->seaborn) (10.2.0)\n",
      "Requirement already satisfied: pyparsing>=2.3.1 in c:\\users\\yogyawan.iskandar\\appdata\\local\\programs\\python\\python312\\lib\\site-packages (from matplotlib!=3.6.1,>=3.4->seaborn) (3.1.2)\n",
      "Requirement already satisfied: python-dateutil>=2.7 in c:\\users\\yogyawan.iskandar\\appdata\\local\\programs\\python\\python312\\lib\\site-packages (from matplotlib!=3.6.1,>=3.4->seaborn) (2.8.2)\n",
      "Requirement already satisfied: pytz>=2020.1 in c:\\users\\yogyawan.iskandar\\appdata\\local\\programs\\python\\python312\\lib\\site-packages (from pandas>=1.2->seaborn) (2024.1)\n",
      "Requirement already satisfied: tzdata>=2022.7 in c:\\users\\yogyawan.iskandar\\appdata\\local\\programs\\python\\python312\\lib\\site-packages (from pandas>=1.2->seaborn) (2024.1)\n",
      "Requirement already satisfied: six>=1.5 in c:\\users\\yogyawan.iskandar\\appdata\\local\\programs\\python\\python312\\lib\\site-packages (from python-dateutil>=2.7->matplotlib!=3.6.1,>=3.4->seaborn) (1.16.0)\n",
      "Downloading seaborn-0.13.2-py3-none-any.whl (294 kB)\n",
      "   ---------------------------------------- 0.0/294.9 kB ? eta -:--:--\n",
      "   - -------------------------------------- 10.2/294.9 kB ? eta -:--:--\n",
      "   ----- --------------------------------- 41.0/294.9 kB 487.6 kB/s eta 0:00:01\n",
      "   ------------------ --------------------- 133.1/294.9 kB 1.1 MB/s eta 0:00:01\n",
      "   -------------------------------------- - 286.7/294.9 kB 1.8 MB/s eta 0:00:01\n",
      "   ---------------------------------------- 294.9/294.9 kB 1.8 MB/s eta 0:00:00\n",
      "Installing collected packages: seaborn\n",
      "Successfully installed seaborn-0.13.2\n"
     ]
    }
   ],
   "source": [
    "!pip install openpyxl\n",
    "!pip install matplotlib\n",
    "!pip install seaborn"
   ]
  },
  {
   "cell_type": "code",
   "execution_count": 13,
   "id": "c00733aa-5bf0-4004-8ccf-b2c9fde73081",
   "metadata": {},
   "outputs": [],
   "source": [
    "%matplotlib inline\n",
    "\n",
    "import pandas as pd\n",
    "import numpy as np\n",
    "import matplotlib as mpl\n",
    "import matplotlib.pyplot as plt\n",
    "import seaborn as sns\n",
    "df = pd.read_excel(\"mysql_db.xlsx\")\n",
    "#print(df)"
   ]
  },
  {
   "cell_type": "markdown",
   "id": "e0a8c1b0-1ad9-4ff6-a161-bba3a70eed7a",
   "metadata": {},
   "source": [
    "### 2. Dataset Information"
   ]
  },
  {
   "cell_type": "markdown",
   "id": "8ec57ff2-49cf-40f9-8221-c0e2b8808dca",
   "metadata": {},
   "source": [
    "Let's view the top 5 rows of the dataset."
   ]
  },
  {
   "cell_type": "code",
   "execution_count": 14,
   "id": "677a9484-c696-4ce4-8f05-329b6f7733ce",
   "metadata": {},
   "outputs": [
    {
     "data": {
      "text/html": [
       "<div>\n",
       "<style scoped>\n",
       "    .dataframe tbody tr th:only-of-type {\n",
       "        vertical-align: middle;\n",
       "    }\n",
       "\n",
       "    .dataframe tbody tr th {\n",
       "        vertical-align: top;\n",
       "    }\n",
       "\n",
       "    .dataframe thead th {\n",
       "        text-align: right;\n",
       "    }\n",
       "</style>\n",
       "<table border=\"1\" class=\"dataframe\">\n",
       "  <thead>\n",
       "    <tr style=\"text-align: right;\">\n",
       "      <th></th>\n",
       "      <th>Date</th>\n",
       "      <th>Name</th>\n",
       "      <th>Type</th>\n",
       "      <th>Usage</th>\n",
       "      <th>Threshold</th>\n",
       "    </tr>\n",
       "  </thead>\n",
       "  <tbody>\n",
       "    <tr>\n",
       "      <th>0</th>\n",
       "      <td>2024-01-01</td>\n",
       "      <td>Disburse4</td>\n",
       "      <td>CPU</td>\n",
       "      <td>0.03</td>\n",
       "      <td>0.85</td>\n",
       "    </tr>\n",
       "    <tr>\n",
       "      <th>1</th>\n",
       "      <td>2024-01-02</td>\n",
       "      <td>Disburse4</td>\n",
       "      <td>CPU</td>\n",
       "      <td>0.24</td>\n",
       "      <td>0.85</td>\n",
       "    </tr>\n",
       "    <tr>\n",
       "      <th>2</th>\n",
       "      <td>2024-01-03</td>\n",
       "      <td>Disburse4</td>\n",
       "      <td>CPU</td>\n",
       "      <td>0.23</td>\n",
       "      <td>0.85</td>\n",
       "    </tr>\n",
       "    <tr>\n",
       "      <th>3</th>\n",
       "      <td>2024-01-04</td>\n",
       "      <td>Disburse4</td>\n",
       "      <td>CPU</td>\n",
       "      <td>0.03</td>\n",
       "      <td>0.85</td>\n",
       "    </tr>\n",
       "    <tr>\n",
       "      <th>4</th>\n",
       "      <td>2024-01-05</td>\n",
       "      <td>Disburse4</td>\n",
       "      <td>CPU</td>\n",
       "      <td>0.03</td>\n",
       "      <td>0.85</td>\n",
       "    </tr>\n",
       "  </tbody>\n",
       "</table>\n",
       "</div>"
      ],
      "text/plain": [
       "        Date       Name Type  Usage  Threshold\n",
       "0 2024-01-01  Disburse4  CPU   0.03       0.85\n",
       "1 2024-01-02  Disburse4  CPU   0.24       0.85\n",
       "2 2024-01-03  Disburse4  CPU   0.23       0.85\n",
       "3 2024-01-04  Disburse4  CPU   0.03       0.85\n",
       "4 2024-01-05  Disburse4  CPU   0.03       0.85"
      ]
     },
     "execution_count": 14,
     "metadata": {},
     "output_type": "execute_result"
    }
   ],
   "source": [
    "df.head()"
   ]
  },
  {
   "cell_type": "markdown",
   "id": "86cc9ad1-1fbe-498f-8e91-8fbda0b9993c",
   "metadata": {},
   "source": [
    "Let's view the bottom 5 rows of the dataset."
   ]
  },
  {
   "cell_type": "code",
   "execution_count": 4,
   "id": "09704543-9cac-4ac9-a095-42ebcaf0f019",
   "metadata": {},
   "outputs": [
    {
     "data": {
      "text/html": [
       "<div>\n",
       "<style scoped>\n",
       "    .dataframe tbody tr th:only-of-type {\n",
       "        vertical-align: middle;\n",
       "    }\n",
       "\n",
       "    .dataframe tbody tr th {\n",
       "        vertical-align: top;\n",
       "    }\n",
       "\n",
       "    .dataframe thead th {\n",
       "        text-align: right;\n",
       "    }\n",
       "</style>\n",
       "<table border=\"1\" class=\"dataframe\">\n",
       "  <thead>\n",
       "    <tr style=\"text-align: right;\">\n",
       "      <th></th>\n",
       "      <th>Date</th>\n",
       "      <th>Name</th>\n",
       "      <th>Type</th>\n",
       "      <th>Usage</th>\n",
       "      <th>Threshold</th>\n",
       "    </tr>\n",
       "  </thead>\n",
       "  <tbody>\n",
       "    <tr>\n",
       "      <th>925</th>\n",
       "      <td>2024-01-27</td>\n",
       "      <td>Collect</td>\n",
       "      <td>Disk</td>\n",
       "      <td>0.39</td>\n",
       "      <td>0.85</td>\n",
       "    </tr>\n",
       "    <tr>\n",
       "      <th>926</th>\n",
       "      <td>2024-01-28</td>\n",
       "      <td>Collect</td>\n",
       "      <td>Disk</td>\n",
       "      <td>0.39</td>\n",
       "      <td>0.85</td>\n",
       "    </tr>\n",
       "    <tr>\n",
       "      <th>927</th>\n",
       "      <td>2024-01-29</td>\n",
       "      <td>Collect</td>\n",
       "      <td>Disk</td>\n",
       "      <td>0.39</td>\n",
       "      <td>0.85</td>\n",
       "    </tr>\n",
       "    <tr>\n",
       "      <th>928</th>\n",
       "      <td>2024-01-30</td>\n",
       "      <td>Collect</td>\n",
       "      <td>Disk</td>\n",
       "      <td>0.39</td>\n",
       "      <td>0.85</td>\n",
       "    </tr>\n",
       "    <tr>\n",
       "      <th>929</th>\n",
       "      <td>2024-01-31</td>\n",
       "      <td>Collect</td>\n",
       "      <td>Disk</td>\n",
       "      <td>0.39</td>\n",
       "      <td>0.85</td>\n",
       "    </tr>\n",
       "  </tbody>\n",
       "</table>\n",
       "</div>"
      ],
      "text/plain": [
       "          Date     Name  Type  Usage  Threshold\n",
       "925 2024-01-27  Collect  Disk   0.39       0.85\n",
       "926 2024-01-28  Collect  Disk   0.39       0.85\n",
       "927 2024-01-29  Collect  Disk   0.39       0.85\n",
       "928 2024-01-30  Collect  Disk   0.39       0.85\n",
       "929 2024-01-31  Collect  Disk   0.39       0.85"
      ]
     },
     "execution_count": 4,
     "metadata": {},
     "output_type": "execute_result"
    }
   ],
   "source": [
    "df.tail()"
   ]
  },
  {
   "cell_type": "markdown",
   "id": "0531cb00-45d0-4de3-b8e8-ad9f78901620",
   "metadata": {},
   "source": [
    "Display column headers of the dataframe."
   ]
  },
  {
   "cell_type": "code",
   "execution_count": 10,
   "id": "032a3ec0-cad9-4eb1-85ce-886fbce89775",
   "metadata": {},
   "outputs": [
    {
     "data": {
      "text/plain": [
       "Index(['Date', 'Name', 'Type', 'Usage', 'Threshold'], dtype='object')"
      ]
     },
     "execution_count": 10,
     "metadata": {},
     "output_type": "execute_result"
    }
   ],
   "source": [
    "df.columns"
   ]
  },
  {
   "cell_type": "markdown",
   "id": "aa9e69ba-4d9e-4bca-9f60-0d40fd0333ef",
   "metadata": {},
   "source": [
    "Display data types of the dataframe."
   ]
  },
  {
   "cell_type": "code",
   "execution_count": 11,
   "id": "aa9425a1-3f0f-4926-bb41-76b8bbf54edb",
   "metadata": {},
   "outputs": [
    {
     "data": {
      "text/plain": [
       "Date         datetime64[ns]\n",
       "Name                 object\n",
       "Type                 object\n",
       "Usage               float64\n",
       "Threshold           float64\n",
       "dtype: object"
      ]
     },
     "execution_count": 11,
     "metadata": {},
     "output_type": "execute_result"
    }
   ],
   "source": [
    "df.dtypes"
   ]
  },
  {
   "cell_type": "markdown",
   "id": "cb9babf9-7bb4-454f-9698-c47a087f230a",
   "metadata": {},
   "source": [
    "Display a short summary of the dataframe."
   ]
  },
  {
   "cell_type": "code",
   "execution_count": 7,
   "id": "efe7681c-59d3-4a62-a97a-00bb9188bfb0",
   "metadata": {},
   "outputs": [
    {
     "name": "stdout",
     "output_type": "stream",
     "text": [
      "<class 'pandas.core.frame.DataFrame'>\n",
      "RangeIndex: 930 entries, 0 to 929\n",
      "Columns: 5 entries, Date to Threshold\n",
      "dtypes: datetime64[ns](1), float64(2), object(2)\n",
      "memory usage: 36.5+ KB\n"
     ]
    }
   ],
   "source": [
    "df.info(verbose=False)"
   ]
  },
  {
   "cell_type": "code",
   "execution_count": 8,
   "id": "e150971b-81af-4f88-a8fc-a6f28e5a37f6",
   "metadata": {},
   "outputs": [
    {
     "data": {
      "text/plain": [
       "RangeIndex(start=0, stop=930, step=1)"
      ]
     },
     "execution_count": 8,
     "metadata": {},
     "output_type": "execute_result"
    }
   ],
   "source": [
    "df.index"
   ]
  },
  {
   "cell_type": "markdown",
   "id": "5e59f7e3-0e1d-4e08-84d3-45eefde9d00b",
   "metadata": {},
   "source": [
    "Display the dimensions of the dataframe."
   ]
  },
  {
   "cell_type": "code",
   "execution_count": 9,
   "id": "16afb763-85b4-4dfb-b235-f0e8bd7abb67",
   "metadata": {},
   "outputs": [
    {
     "data": {
      "text/plain": [
       "(930, 5)"
      ]
     },
     "execution_count": 9,
     "metadata": {},
     "output_type": "execute_result"
    }
   ],
   "source": [
    "df.shape"
   ]
  },
  {
   "cell_type": "markdown",
   "id": "98ca426a-1fe0-4663-a86c-4ad0d7ebdaf0",
   "metadata": {},
   "source": [
    "Check to see how many null objects we have in the dataset."
   ]
  },
  {
   "cell_type": "code",
   "execution_count": 10,
   "id": "bbc49148-fe07-49be-8393-47f44d1cee01",
   "metadata": {},
   "outputs": [
    {
     "data": {
      "text/plain": [
       "Date         0\n",
       "Name         0\n",
       "Type         0\n",
       "Usage        0\n",
       "Threshold    0\n",
       "dtype: int64"
      ]
     },
     "execution_count": 10,
     "metadata": {},
     "output_type": "execute_result"
    }
   ],
   "source": [
    "df.isnull().sum()"
   ]
  },
  {
   "cell_type": "markdown",
   "id": "6744e5c4-9b31-419d-adf4-b02601884232",
   "metadata": {},
   "source": [
    "A quick summary."
   ]
  },
  {
   "cell_type": "code",
   "execution_count": 12,
   "id": "8de125c0-d94b-441c-b70b-55a4b21b9860",
   "metadata": {},
   "outputs": [
    {
     "data": {
      "text/html": [
       "<div>\n",
       "<style scoped>\n",
       "    .dataframe tbody tr th:only-of-type {\n",
       "        vertical-align: middle;\n",
       "    }\n",
       "\n",
       "    .dataframe tbody tr th {\n",
       "        vertical-align: top;\n",
       "    }\n",
       "\n",
       "    .dataframe thead th {\n",
       "        text-align: right;\n",
       "    }\n",
       "</style>\n",
       "<table border=\"1\" class=\"dataframe\">\n",
       "  <thead>\n",
       "    <tr style=\"text-align: right;\">\n",
       "      <th></th>\n",
       "      <th>Date</th>\n",
       "      <th>Usage</th>\n",
       "      <th>Threshold</th>\n",
       "    </tr>\n",
       "  </thead>\n",
       "  <tbody>\n",
       "    <tr>\n",
       "      <th>count</th>\n",
       "      <td>930</td>\n",
       "      <td>930.000000</td>\n",
       "      <td>9.300000e+02</td>\n",
       "    </tr>\n",
       "    <tr>\n",
       "      <th>mean</th>\n",
       "      <td>2024-01-16 00:00:00</td>\n",
       "      <td>0.267462</td>\n",
       "      <td>8.500000e-01</td>\n",
       "    </tr>\n",
       "    <tr>\n",
       "      <th>min</th>\n",
       "      <td>2024-01-01 00:00:00</td>\n",
       "      <td>0.000000</td>\n",
       "      <td>8.500000e-01</td>\n",
       "    </tr>\n",
       "    <tr>\n",
       "      <th>25%</th>\n",
       "      <td>2024-01-08 00:00:00</td>\n",
       "      <td>0.080000</td>\n",
       "      <td>8.500000e-01</td>\n",
       "    </tr>\n",
       "    <tr>\n",
       "      <th>50%</th>\n",
       "      <td>2024-01-16 00:00:00</td>\n",
       "      <td>0.200000</td>\n",
       "      <td>8.500000e-01</td>\n",
       "    </tr>\n",
       "    <tr>\n",
       "      <th>75%</th>\n",
       "      <td>2024-01-24 00:00:00</td>\n",
       "      <td>0.390000</td>\n",
       "      <td>8.500000e-01</td>\n",
       "    </tr>\n",
       "    <tr>\n",
       "      <th>max</th>\n",
       "      <td>2024-01-31 00:00:00</td>\n",
       "      <td>1.000000</td>\n",
       "      <td>8.500000e-01</td>\n",
       "    </tr>\n",
       "    <tr>\n",
       "      <th>std</th>\n",
       "      <td>NaN</td>\n",
       "      <td>0.231695</td>\n",
       "      <td>2.221641e-16</td>\n",
       "    </tr>\n",
       "  </tbody>\n",
       "</table>\n",
       "</div>"
      ],
      "text/plain": [
       "                      Date       Usage     Threshold\n",
       "count                  930  930.000000  9.300000e+02\n",
       "mean   2024-01-16 00:00:00    0.267462  8.500000e-01\n",
       "min    2024-01-01 00:00:00    0.000000  8.500000e-01\n",
       "25%    2024-01-08 00:00:00    0.080000  8.500000e-01\n",
       "50%    2024-01-16 00:00:00    0.200000  8.500000e-01\n",
       "75%    2024-01-24 00:00:00    0.390000  8.500000e-01\n",
       "max    2024-01-31 00:00:00    1.000000  8.500000e-01\n",
       "std                    NaN    0.231695  2.221641e-16"
      ]
     },
     "execution_count": 12,
     "metadata": {},
     "output_type": "execute_result"
    }
   ],
   "source": [
    "df.describe()"
   ]
  },
  {
   "cell_type": "markdown",
   "id": "65c73620-25ea-478f-9641-1d72fec5b74a",
   "metadata": {},
   "source": [
    "### 3. Threshold (85% or 0.85)"
   ]
  },
  {
   "cell_type": "markdown",
   "id": "3c02f778-c1f2-4710-a042-7e085a4daa75",
   "metadata": {},
   "source": [
    "Find the data which the usage is greater than the threshold."
   ]
  },
  {
   "cell_type": "code",
   "execution_count": 6,
   "id": "bc497641-09b7-4476-9505-2443ce79a253",
   "metadata": {},
   "outputs": [
    {
     "data": {
      "text/html": [
       "<div>\n",
       "<style scoped>\n",
       "    .dataframe tbody tr th:only-of-type {\n",
       "        vertical-align: middle;\n",
       "    }\n",
       "\n",
       "    .dataframe tbody tr th {\n",
       "        vertical-align: top;\n",
       "    }\n",
       "\n",
       "    .dataframe thead th {\n",
       "        text-align: right;\n",
       "    }\n",
       "</style>\n",
       "<table border=\"1\" class=\"dataframe\">\n",
       "  <thead>\n",
       "    <tr style=\"text-align: right;\">\n",
       "      <th></th>\n",
       "      <th>Date</th>\n",
       "      <th>Name</th>\n",
       "      <th>Type</th>\n",
       "      <th>Usage</th>\n",
       "      <th>Threshold</th>\n",
       "    </tr>\n",
       "  </thead>\n",
       "  <tbody>\n",
       "    <tr>\n",
       "      <th>475</th>\n",
       "      <td>2024-01-11</td>\n",
       "      <td>Six</td>\n",
       "      <td>CPU</td>\n",
       "      <td>1.00</td>\n",
       "      <td>0.85</td>\n",
       "    </tr>\n",
       "    <tr>\n",
       "      <th>713</th>\n",
       "      <td>2024-01-01</td>\n",
       "      <td>Chat</td>\n",
       "      <td>Disk</td>\n",
       "      <td>0.89</td>\n",
       "      <td>0.85</td>\n",
       "    </tr>\n",
       "    <tr>\n",
       "      <th>714</th>\n",
       "      <td>2024-01-02</td>\n",
       "      <td>Chat</td>\n",
       "      <td>Disk</td>\n",
       "      <td>0.89</td>\n",
       "      <td>0.85</td>\n",
       "    </tr>\n",
       "    <tr>\n",
       "      <th>715</th>\n",
       "      <td>2024-01-03</td>\n",
       "      <td>Chat</td>\n",
       "      <td>Disk</td>\n",
       "      <td>0.89</td>\n",
       "      <td>0.85</td>\n",
       "    </tr>\n",
       "    <tr>\n",
       "      <th>716</th>\n",
       "      <td>2024-01-04</td>\n",
       "      <td>Chat</td>\n",
       "      <td>Disk</td>\n",
       "      <td>0.89</td>\n",
       "      <td>0.85</td>\n",
       "    </tr>\n",
       "    <tr>\n",
       "      <th>717</th>\n",
       "      <td>2024-01-05</td>\n",
       "      <td>Chat</td>\n",
       "      <td>Disk</td>\n",
       "      <td>0.89</td>\n",
       "      <td>0.85</td>\n",
       "    </tr>\n",
       "    <tr>\n",
       "      <th>718</th>\n",
       "      <td>2024-01-06</td>\n",
       "      <td>Chat</td>\n",
       "      <td>Disk</td>\n",
       "      <td>0.90</td>\n",
       "      <td>0.85</td>\n",
       "    </tr>\n",
       "    <tr>\n",
       "      <th>719</th>\n",
       "      <td>2024-01-07</td>\n",
       "      <td>Chat</td>\n",
       "      <td>Disk</td>\n",
       "      <td>0.90</td>\n",
       "      <td>0.85</td>\n",
       "    </tr>\n",
       "    <tr>\n",
       "      <th>720</th>\n",
       "      <td>2024-01-08</td>\n",
       "      <td>Chat</td>\n",
       "      <td>Disk</td>\n",
       "      <td>0.90</td>\n",
       "      <td>0.85</td>\n",
       "    </tr>\n",
       "    <tr>\n",
       "      <th>721</th>\n",
       "      <td>2024-01-09</td>\n",
       "      <td>Chat</td>\n",
       "      <td>Disk</td>\n",
       "      <td>0.90</td>\n",
       "      <td>0.85</td>\n",
       "    </tr>\n",
       "    <tr>\n",
       "      <th>722</th>\n",
       "      <td>2024-01-10</td>\n",
       "      <td>Chat</td>\n",
       "      <td>Disk</td>\n",
       "      <td>0.90</td>\n",
       "      <td>0.85</td>\n",
       "    </tr>\n",
       "    <tr>\n",
       "      <th>723</th>\n",
       "      <td>2024-01-11</td>\n",
       "      <td>Chat</td>\n",
       "      <td>Disk</td>\n",
       "      <td>0.90</td>\n",
       "      <td>0.85</td>\n",
       "    </tr>\n",
       "    <tr>\n",
       "      <th>724</th>\n",
       "      <td>2024-01-12</td>\n",
       "      <td>Chat</td>\n",
       "      <td>Disk</td>\n",
       "      <td>0.90</td>\n",
       "      <td>0.85</td>\n",
       "    </tr>\n",
       "    <tr>\n",
       "      <th>725</th>\n",
       "      <td>2024-01-13</td>\n",
       "      <td>Chat</td>\n",
       "      <td>Disk</td>\n",
       "      <td>0.90</td>\n",
       "      <td>0.85</td>\n",
       "    </tr>\n",
       "    <tr>\n",
       "      <th>726</th>\n",
       "      <td>2024-01-14</td>\n",
       "      <td>Chat</td>\n",
       "      <td>Disk</td>\n",
       "      <td>0.90</td>\n",
       "      <td>0.85</td>\n",
       "    </tr>\n",
       "    <tr>\n",
       "      <th>727</th>\n",
       "      <td>2024-01-15</td>\n",
       "      <td>Chat</td>\n",
       "      <td>Disk</td>\n",
       "      <td>0.90</td>\n",
       "      <td>0.85</td>\n",
       "    </tr>\n",
       "    <tr>\n",
       "      <th>728</th>\n",
       "      <td>2024-01-16</td>\n",
       "      <td>Chat</td>\n",
       "      <td>Disk</td>\n",
       "      <td>0.90</td>\n",
       "      <td>0.85</td>\n",
       "    </tr>\n",
       "    <tr>\n",
       "      <th>729</th>\n",
       "      <td>2024-01-17</td>\n",
       "      <td>Chat</td>\n",
       "      <td>Disk</td>\n",
       "      <td>0.90</td>\n",
       "      <td>0.85</td>\n",
       "    </tr>\n",
       "    <tr>\n",
       "      <th>730</th>\n",
       "      <td>2024-01-18</td>\n",
       "      <td>Chat</td>\n",
       "      <td>Disk</td>\n",
       "      <td>0.90</td>\n",
       "      <td>0.85</td>\n",
       "    </tr>\n",
       "    <tr>\n",
       "      <th>731</th>\n",
       "      <td>2024-01-19</td>\n",
       "      <td>Chat</td>\n",
       "      <td>Disk</td>\n",
       "      <td>0.90</td>\n",
       "      <td>0.85</td>\n",
       "    </tr>\n",
       "    <tr>\n",
       "      <th>732</th>\n",
       "      <td>2024-01-20</td>\n",
       "      <td>Chat</td>\n",
       "      <td>Disk</td>\n",
       "      <td>0.90</td>\n",
       "      <td>0.85</td>\n",
       "    </tr>\n",
       "    <tr>\n",
       "      <th>733</th>\n",
       "      <td>2024-01-21</td>\n",
       "      <td>Chat</td>\n",
       "      <td>Disk</td>\n",
       "      <td>0.90</td>\n",
       "      <td>0.85</td>\n",
       "    </tr>\n",
       "    <tr>\n",
       "      <th>734</th>\n",
       "      <td>2024-01-22</td>\n",
       "      <td>Chat</td>\n",
       "      <td>Disk</td>\n",
       "      <td>0.90</td>\n",
       "      <td>0.85</td>\n",
       "    </tr>\n",
       "    <tr>\n",
       "      <th>735</th>\n",
       "      <td>2024-01-23</td>\n",
       "      <td>Chat</td>\n",
       "      <td>Disk</td>\n",
       "      <td>0.90</td>\n",
       "      <td>0.85</td>\n",
       "    </tr>\n",
       "    <tr>\n",
       "      <th>736</th>\n",
       "      <td>2024-01-24</td>\n",
       "      <td>Chat</td>\n",
       "      <td>Disk</td>\n",
       "      <td>0.90</td>\n",
       "      <td>0.85</td>\n",
       "    </tr>\n",
       "    <tr>\n",
       "      <th>737</th>\n",
       "      <td>2024-01-25</td>\n",
       "      <td>Chat</td>\n",
       "      <td>Disk</td>\n",
       "      <td>0.90</td>\n",
       "      <td>0.85</td>\n",
       "    </tr>\n",
       "    <tr>\n",
       "      <th>738</th>\n",
       "      <td>2024-01-26</td>\n",
       "      <td>Chat</td>\n",
       "      <td>Disk</td>\n",
       "      <td>0.90</td>\n",
       "      <td>0.85</td>\n",
       "    </tr>\n",
       "    <tr>\n",
       "      <th>739</th>\n",
       "      <td>2024-01-27</td>\n",
       "      <td>Chat</td>\n",
       "      <td>Disk</td>\n",
       "      <td>0.89</td>\n",
       "      <td>0.85</td>\n",
       "    </tr>\n",
       "    <tr>\n",
       "      <th>740</th>\n",
       "      <td>2024-01-28</td>\n",
       "      <td>Chat</td>\n",
       "      <td>Disk</td>\n",
       "      <td>0.89</td>\n",
       "      <td>0.85</td>\n",
       "    </tr>\n",
       "    <tr>\n",
       "      <th>741</th>\n",
       "      <td>2024-01-29</td>\n",
       "      <td>Chat</td>\n",
       "      <td>Disk</td>\n",
       "      <td>0.89</td>\n",
       "      <td>0.85</td>\n",
       "    </tr>\n",
       "    <tr>\n",
       "      <th>742</th>\n",
       "      <td>2024-01-30</td>\n",
       "      <td>Chat</td>\n",
       "      <td>Disk</td>\n",
       "      <td>0.89</td>\n",
       "      <td>0.85</td>\n",
       "    </tr>\n",
       "    <tr>\n",
       "      <th>743</th>\n",
       "      <td>2024-01-31</td>\n",
       "      <td>Chat</td>\n",
       "      <td>Disk</td>\n",
       "      <td>0.89</td>\n",
       "      <td>0.85</td>\n",
       "    </tr>\n",
       "  </tbody>\n",
       "</table>\n",
       "</div>"
      ],
      "text/plain": [
       "          Date  Name  Type  Usage  Threshold\n",
       "475 2024-01-11   Six   CPU   1.00       0.85\n",
       "713 2024-01-01  Chat  Disk   0.89       0.85\n",
       "714 2024-01-02  Chat  Disk   0.89       0.85\n",
       "715 2024-01-03  Chat  Disk   0.89       0.85\n",
       "716 2024-01-04  Chat  Disk   0.89       0.85\n",
       "717 2024-01-05  Chat  Disk   0.89       0.85\n",
       "718 2024-01-06  Chat  Disk   0.90       0.85\n",
       "719 2024-01-07  Chat  Disk   0.90       0.85\n",
       "720 2024-01-08  Chat  Disk   0.90       0.85\n",
       "721 2024-01-09  Chat  Disk   0.90       0.85\n",
       "722 2024-01-10  Chat  Disk   0.90       0.85\n",
       "723 2024-01-11  Chat  Disk   0.90       0.85\n",
       "724 2024-01-12  Chat  Disk   0.90       0.85\n",
       "725 2024-01-13  Chat  Disk   0.90       0.85\n",
       "726 2024-01-14  Chat  Disk   0.90       0.85\n",
       "727 2024-01-15  Chat  Disk   0.90       0.85\n",
       "728 2024-01-16  Chat  Disk   0.90       0.85\n",
       "729 2024-01-17  Chat  Disk   0.90       0.85\n",
       "730 2024-01-18  Chat  Disk   0.90       0.85\n",
       "731 2024-01-19  Chat  Disk   0.90       0.85\n",
       "732 2024-01-20  Chat  Disk   0.90       0.85\n",
       "733 2024-01-21  Chat  Disk   0.90       0.85\n",
       "734 2024-01-22  Chat  Disk   0.90       0.85\n",
       "735 2024-01-23  Chat  Disk   0.90       0.85\n",
       "736 2024-01-24  Chat  Disk   0.90       0.85\n",
       "737 2024-01-25  Chat  Disk   0.90       0.85\n",
       "738 2024-01-26  Chat  Disk   0.90       0.85\n",
       "739 2024-01-27  Chat  Disk   0.89       0.85\n",
       "740 2024-01-28  Chat  Disk   0.89       0.85\n",
       "741 2024-01-29  Chat  Disk   0.89       0.85\n",
       "742 2024-01-30  Chat  Disk   0.89       0.85\n",
       "743 2024-01-31  Chat  Disk   0.89       0.85"
      ]
     },
     "execution_count": 6,
     "metadata": {},
     "output_type": "execute_result"
    }
   ],
   "source": [
    "df_great = df[df['Usage'] > df['Threshold']]\n",
    "df_great"
   ]
  },
  {
   "cell_type": "markdown",
   "id": "62aeae6a-e292-4b47-93a7-96e2e27aa3bd",
   "metadata": {},
   "source": [
    "It shown here on January 11th, Six with 100% CPU usage and Chat with disk usage above the threshold for a whole month.\n",
    "\n",
    "And a quick summary."
   ]
  },
  {
   "cell_type": "code",
   "execution_count": 24,
   "id": "fe9ec01c-2ced-4703-a592-7e4c22918dbb",
   "metadata": {},
   "outputs": [],
   "source": [
    "df_great1 = df_great.groupby('Name')['Name'].size()"
   ]
  },
  {
   "cell_type": "code",
   "execution_count": 25,
   "id": "4bf73934-715e-4b95-9cd7-de681c2699d5",
   "metadata": {},
   "outputs": [
    {
     "data": {
      "text/plain": [
       "Name\n",
       "Chat    31\n",
       "Six      1\n",
       "Name: Name, dtype: int64"
      ]
     },
     "execution_count": 25,
     "metadata": {},
     "output_type": "execute_result"
    }
   ],
   "source": [
    "df_great1"
   ]
  },
  {
   "cell_type": "markdown",
   "id": "ec400897-dc8d-4079-8ea4-68ad58f77c6c",
   "metadata": {},
   "source": [
    "Pie chart of percentages between the usage below and above threshold (85% or 0.85) of 10 MySQL databases in January, 2024."
   ]
  },
  {
   "cell_type": "code",
   "execution_count": 41,
   "id": "44673c51-7f96-43b5-96b7-382d3f829002",
   "metadata": {},
   "outputs": [
    {
     "data": {
      "text/plain": [
       "([<matplotlib.patches.Wedge at 0x1a06e1a8ce0>,\n",
       "  <matplotlib.patches.Wedge at 0x1a06e180f50>],\n",
       " [Text(-1.093579442695486, 0.11867604018432218, 'Below Threshold'),\n",
       "  Text(1.093579455195639, -0.11867592499748791, 'Above Threshold')],\n",
       " [Text(-0.5964978778339013, 0.06473238555508481, '96.6%'),\n",
       "  Text(0.5964978846521667, -0.0647323227259025, '3.4%')])"
      ]
     },
     "execution_count": 41,
     "metadata": {},
     "output_type": "execute_result"
    },
    {
     "data": {
      "image/png": "[encoded data removed]",
      "text/plain": [
       "<Figure size 640x480 with 1 Axes>"
      ]
     },
     "metadata": {},
     "output_type": "display_data"
    }
   ],
   "source": [
    "v_pie_labels = ['Below Threshold', 'Above Threshold']\n",
    "v_blw_thrs = float(len(df) - len(df_great)) / 100\n",
    "v_abv_thrs = float(len(df_great)) / 100\n",
    "v_array_thrs = [v_blw_thrs, v_abv_thrs]\n",
    "\n",
    "fig, ax = plt.subplots()\n",
    "ax.pie(v_array_thrs,\n",
    "       labels=v_pie_labels,\n",
    "       colors=['green', 'red'],\n",
    "       autopct='%1.1f%%',\n",
    "       shadow=True)"
   ]
  },
  {
   "cell_type": "markdown",
   "id": "e5409127-439d-40b0-b000-d27d3e937517",
   "metadata": {},
   "source": [
    "### 4. CPU, Memory, and Disk Usage"
   ]
  },
  {
   "cell_type": "markdown",
   "id": "7963713d-da8b-4d4c-8dc0-80f719753c58",
   "metadata": {},
   "source": [
    "#### Overall Average 10 MySQL Databases in January, 2024"
   ]
  },
  {
   "cell_type": "code",
   "execution_count": 7,
   "id": "ae2610e4-2793-4606-9a17-225ab4711944",
   "metadata": {},
   "outputs": [
    {
     "data": {
      "text/html": [
       "<div>\n",
       "<style scoped>\n",
       "    .dataframe tbody tr th:only-of-type {\n",
       "        vertical-align: middle;\n",
       "    }\n",
       "\n",
       "    .dataframe tbody tr th {\n",
       "        vertical-align: top;\n",
       "    }\n",
       "\n",
       "    .dataframe thead th {\n",
       "        text-align: right;\n",
       "    }\n",
       "</style>\n",
       "<table border=\"1\" class=\"dataframe\">\n",
       "  <thead>\n",
       "    <tr style=\"text-align: right;\">\n",
       "      <th></th>\n",
       "      <th></th>\n",
       "      <th></th>\n",
       "      <th>Usage</th>\n",
       "    </tr>\n",
       "    <tr>\n",
       "      <th>Date</th>\n",
       "      <th>Name</th>\n",
       "      <th>Type</th>\n",
       "      <th></th>\n",
       "    </tr>\n",
       "  </thead>\n",
       "  <tbody>\n",
       "    <tr>\n",
       "      <th rowspan=\"30\" valign=\"top\">1</th>\n",
       "      <th rowspan=\"3\" valign=\"top\">Chat</th>\n",
       "      <th>CPU</th>\n",
       "      <td>0.25</td>\n",
       "    </tr>\n",
       "    <tr>\n",
       "      <th>Disk</th>\n",
       "      <td>0.90</td>\n",
       "    </tr>\n",
       "    <tr>\n",
       "      <th>Memory</th>\n",
       "      <td>0.12</td>\n",
       "    </tr>\n",
       "    <tr>\n",
       "      <th rowspan=\"3\" valign=\"top\">Collect</th>\n",
       "      <th>CPU</th>\n",
       "      <td>0.22</td>\n",
       "    </tr>\n",
       "    <tr>\n",
       "      <th>Disk</th>\n",
       "      <td>0.36</td>\n",
       "    </tr>\n",
       "    <tr>\n",
       "      <th>Memory</th>\n",
       "      <td>0.30</td>\n",
       "    </tr>\n",
       "    <tr>\n",
       "      <th rowspan=\"3\" valign=\"top\">Credit2</th>\n",
       "      <th>CPU</th>\n",
       "      <td>0.18</td>\n",
       "    </tr>\n",
       "    <tr>\n",
       "      <th>Disk</th>\n",
       "      <td>0.41</td>\n",
       "    </tr>\n",
       "    <tr>\n",
       "      <th>Memory</th>\n",
       "      <td>0.38</td>\n",
       "    </tr>\n",
       "    <tr>\n",
       "      <th rowspan=\"3\" valign=\"top\">Credit4</th>\n",
       "      <th>CPU</th>\n",
       "      <td>0.06</td>\n",
       "    </tr>\n",
       "    <tr>\n",
       "      <th>Disk</th>\n",
       "      <td>0.23</td>\n",
       "    </tr>\n",
       "    <tr>\n",
       "      <th>Memory</th>\n",
       "      <td>0.46</td>\n",
       "    </tr>\n",
       "    <tr>\n",
       "      <th rowspan=\"3\" valign=\"top\">DX</th>\n",
       "      <th>CPU</th>\n",
       "      <td>0.34</td>\n",
       "    </tr>\n",
       "    <tr>\n",
       "      <th>Disk</th>\n",
       "      <td>0.46</td>\n",
       "    </tr>\n",
       "    <tr>\n",
       "      <th>Memory</th>\n",
       "      <td>0.11</td>\n",
       "    </tr>\n",
       "    <tr>\n",
       "      <th rowspan=\"3\" valign=\"top\">Disburse2</th>\n",
       "      <th>CPU</th>\n",
       "      <td>0.10</td>\n",
       "    </tr>\n",
       "    <tr>\n",
       "      <th>Disk</th>\n",
       "      <td>0.55</td>\n",
       "    </tr>\n",
       "    <tr>\n",
       "      <th>Memory</th>\n",
       "      <td>0.82</td>\n",
       "    </tr>\n",
       "    <tr>\n",
       "      <th rowspan=\"3\" valign=\"top\">Disburse4</th>\n",
       "      <th>CPU</th>\n",
       "      <td>0.12</td>\n",
       "    </tr>\n",
       "    <tr>\n",
       "      <th>Disk</th>\n",
       "      <td>0.13</td>\n",
       "    </tr>\n",
       "    <tr>\n",
       "      <th>Memory</th>\n",
       "      <td>0.09</td>\n",
       "    </tr>\n",
       "    <tr>\n",
       "      <th rowspan=\"3\" valign=\"top\">Profile</th>\n",
       "      <th>CPU</th>\n",
       "      <td>0.09</td>\n",
       "    </tr>\n",
       "    <tr>\n",
       "      <th>Disk</th>\n",
       "      <td>0.08</td>\n",
       "    </tr>\n",
       "    <tr>\n",
       "      <th>Memory</th>\n",
       "      <td>0.06</td>\n",
       "    </tr>\n",
       "    <tr>\n",
       "      <th rowspan=\"3\" valign=\"top\">SMS</th>\n",
       "      <th>CPU</th>\n",
       "      <td>0.00</td>\n",
       "    </tr>\n",
       "    <tr>\n",
       "      <th>Disk</th>\n",
       "      <td>0.08</td>\n",
       "    </tr>\n",
       "    <tr>\n",
       "      <th>Memory</th>\n",
       "      <td>0.13</td>\n",
       "    </tr>\n",
       "    <tr>\n",
       "      <th rowspan=\"3\" valign=\"top\">Six</th>\n",
       "      <th>CPU</th>\n",
       "      <td>0.27</td>\n",
       "    </tr>\n",
       "    <tr>\n",
       "      <th>Disk</th>\n",
       "      <td>0.65</td>\n",
       "    </tr>\n",
       "    <tr>\n",
       "      <th>Memory</th>\n",
       "      <td>0.08</td>\n",
       "    </tr>\n",
       "  </tbody>\n",
       "</table>\n",
       "</div>"
      ],
      "text/plain": [
       "                       Usage\n",
       "Date Name      Type         \n",
       "1    Chat      CPU      0.25\n",
       "               Disk     0.90\n",
       "               Memory   0.12\n",
       "     Collect   CPU      0.22\n",
       "               Disk     0.36\n",
       "               Memory   0.30\n",
       "     Credit2   CPU      0.18\n",
       "               Disk     0.41\n",
       "               Memory   0.38\n",
       "     Credit4   CPU      0.06\n",
       "               Disk     0.23\n",
       "               Memory   0.46\n",
       "     DX        CPU      0.34\n",
       "               Disk     0.46\n",
       "               Memory   0.11\n",
       "     Disburse2 CPU      0.10\n",
       "               Disk     0.55\n",
       "               Memory   0.82\n",
       "     Disburse4 CPU      0.12\n",
       "               Disk     0.13\n",
       "               Memory   0.09\n",
       "     Profile   CPU      0.09\n",
       "               Disk     0.08\n",
       "               Memory   0.06\n",
       "     SMS       CPU      0.00\n",
       "               Disk     0.08\n",
       "               Memory   0.13\n",
       "     Six       CPU      0.27\n",
       "               Disk     0.65\n",
       "               Memory   0.08"
      ]
     },
     "execution_count": 7,
     "metadata": {},
     "output_type": "execute_result"
    }
   ],
   "source": [
    "df_gb = df.groupby([df.Date.dt.month, df.Name, df.Type])['Usage'].mean().round(2)\n",
    "df_gb.to_frame()"
   ]
  },
  {
   "cell_type": "markdown",
   "id": "b16c985d-ef04-44fc-bf99-edb585f00d8a",
   "metadata": {},
   "source": [
    "#### 4.1 CPU Usage"
   ]
  },
  {
   "cell_type": "code",
   "execution_count": 6,
   "id": "9cecf510-9019-484c-82ff-d98d2423aa09",
   "metadata": {},
   "outputs": [
    {
     "data": {
      "text/html": [
       "<div>\n",
       "<style scoped>\n",
       "    .dataframe tbody tr th:only-of-type {\n",
       "        vertical-align: middle;\n",
       "    }\n",
       "\n",
       "    .dataframe tbody tr th {\n",
       "        vertical-align: top;\n",
       "    }\n",
       "\n",
       "    .dataframe thead th {\n",
       "        text-align: right;\n",
       "    }\n",
       "</style>\n",
       "<table border=\"1\" class=\"dataframe\">\n",
       "  <thead>\n",
       "    <tr style=\"text-align: right;\">\n",
       "      <th></th>\n",
       "      <th>Date</th>\n",
       "      <th>Name</th>\n",
       "      <th>Type</th>\n",
       "      <th>Usage</th>\n",
       "      <th>Threshold</th>\n",
       "    </tr>\n",
       "  </thead>\n",
       "  <tbody>\n",
       "    <tr>\n",
       "      <th>0</th>\n",
       "      <td>2024-01-01</td>\n",
       "      <td>Disburse4</td>\n",
       "      <td>CPU</td>\n",
       "      <td>0.03</td>\n",
       "      <td>0.85</td>\n",
       "    </tr>\n",
       "    <tr>\n",
       "      <th>1</th>\n",
       "      <td>2024-01-02</td>\n",
       "      <td>Disburse4</td>\n",
       "      <td>CPU</td>\n",
       "      <td>0.24</td>\n",
       "      <td>0.85</td>\n",
       "    </tr>\n",
       "    <tr>\n",
       "      <th>2</th>\n",
       "      <td>2024-01-03</td>\n",
       "      <td>Disburse4</td>\n",
       "      <td>CPU</td>\n",
       "      <td>0.23</td>\n",
       "      <td>0.85</td>\n",
       "    </tr>\n",
       "    <tr>\n",
       "      <th>3</th>\n",
       "      <td>2024-01-04</td>\n",
       "      <td>Disburse4</td>\n",
       "      <td>CPU</td>\n",
       "      <td>0.03</td>\n",
       "      <td>0.85</td>\n",
       "    </tr>\n",
       "    <tr>\n",
       "      <th>4</th>\n",
       "      <td>2024-01-05</td>\n",
       "      <td>Disburse4</td>\n",
       "      <td>CPU</td>\n",
       "      <td>0.03</td>\n",
       "      <td>0.85</td>\n",
       "    </tr>\n",
       "  </tbody>\n",
       "</table>\n",
       "</div>"
      ],
      "text/plain": [
       "        Date       Name Type  Usage  Threshold\n",
       "0 2024-01-01  Disburse4  CPU   0.03       0.85\n",
       "1 2024-01-02  Disburse4  CPU   0.24       0.85\n",
       "2 2024-01-03  Disburse4  CPU   0.23       0.85\n",
       "3 2024-01-04  Disburse4  CPU   0.03       0.85\n",
       "4 2024-01-05  Disburse4  CPU   0.03       0.85"
      ]
     },
     "execution_count": 6,
     "metadata": {},
     "output_type": "execute_result"
    }
   ],
   "source": [
    "df_CPU = df[df['Type'] == 'CPU']\n",
    "df_CPU.head()"
   ]
  },
  {
   "cell_type": "code",
   "execution_count": 8,
   "id": "90bae47f-7117-4472-ae8a-d473ca2a6b4d",
   "metadata": {},
   "outputs": [
    {
     "data": {
      "text/html": [
       "<div>\n",
       "<style scoped>\n",
       "    .dataframe tbody tr th:only-of-type {\n",
       "        vertical-align: middle;\n",
       "    }\n",
       "\n",
       "    .dataframe tbody tr th {\n",
       "        vertical-align: top;\n",
       "    }\n",
       "\n",
       "    .dataframe thead th {\n",
       "        text-align: right;\n",
       "    }\n",
       "</style>\n",
       "<table border=\"1\" class=\"dataframe\">\n",
       "  <thead>\n",
       "    <tr style=\"text-align: right;\">\n",
       "      <th></th>\n",
       "      <th></th>\n",
       "      <th>Usage</th>\n",
       "    </tr>\n",
       "    <tr>\n",
       "      <th>Date</th>\n",
       "      <th>Name</th>\n",
       "      <th></th>\n",
       "    </tr>\n",
       "  </thead>\n",
       "  <tbody>\n",
       "    <tr>\n",
       "      <th rowspan=\"10\" valign=\"top\">1</th>\n",
       "      <th>Chat</th>\n",
       "      <td>0.25</td>\n",
       "    </tr>\n",
       "    <tr>\n",
       "      <th>Collect</th>\n",
       "      <td>0.22</td>\n",
       "    </tr>\n",
       "    <tr>\n",
       "      <th>Credit2</th>\n",
       "      <td>0.18</td>\n",
       "    </tr>\n",
       "    <tr>\n",
       "      <th>Credit4</th>\n",
       "      <td>0.06</td>\n",
       "    </tr>\n",
       "    <tr>\n",
       "      <th>DX</th>\n",
       "      <td>0.34</td>\n",
       "    </tr>\n",
       "    <tr>\n",
       "      <th>Disburse2</th>\n",
       "      <td>0.10</td>\n",
       "    </tr>\n",
       "    <tr>\n",
       "      <th>Disburse4</th>\n",
       "      <td>0.12</td>\n",
       "    </tr>\n",
       "    <tr>\n",
       "      <th>Profile</th>\n",
       "      <td>0.09</td>\n",
       "    </tr>\n",
       "    <tr>\n",
       "      <th>SMS</th>\n",
       "      <td>0.00</td>\n",
       "    </tr>\n",
       "    <tr>\n",
       "      <th>Six</th>\n",
       "      <td>0.27</td>\n",
       "    </tr>\n",
       "  </tbody>\n",
       "</table>\n",
       "</div>"
      ],
      "text/plain": [
       "                Usage\n",
       "Date Name            \n",
       "1    Chat        0.25\n",
       "     Collect     0.22\n",
       "     Credit2     0.18\n",
       "     Credit4     0.06\n",
       "     DX          0.34\n",
       "     Disburse2   0.10\n",
       "     Disburse4   0.12\n",
       "     Profile     0.09\n",
       "     SMS         0.00\n",
       "     Six         0.27"
      ]
     },
     "execution_count": 8,
     "metadata": {},
     "output_type": "execute_result"
    }
   ],
   "source": [
    "df_CPU_gb = df_CPU.groupby([df_CPU.Date.dt.month, df_CPU.Name])['Usage'].mean().round(2)\n",
    "df_CPU_gb.to_frame()"
   ]
  },
  {
   "cell_type": "code",
   "execution_count": 17,
   "id": "3a9d074f-b19b-45f5-ba91-0ad54e5b8a5b",
   "metadata": {},
   "outputs": [
    {
     "data": {
      "image/png": "[encoded data removed]",
      "text/plain": [
       "<Figure size 1000x600 with 1 Axes>"
      ]
     },
     "metadata": {},
     "output_type": "display_data"
    }
   ],
   "source": [
    "plt.figure(figsize=(10, 6))\n",
    "sns.barplot(x='Name', y='Usage', hue='Name', data=df_CPU_gb.to_frame().reset_index())\n",
    "\n",
    "#plt.xticks(ticks=[0, 1], labels=['Non-Recession', 'Recession'])\n",
    "plt.xlabel('Database Name')\n",
    "plt.ylabel('CPU Usage')\n",
    "plt.title('CPU Usage of 10 MySQL Databases')\n",
    "\n",
    "plt.show()"
   ]
  },
  {
   "cell_type": "markdown",
   "id": "65b6c07c-6911-4edd-8b6c-c5bea69ffbf9",
   "metadata": {},
   "source": [
    "Conclusion, the CPU usage of all 10 MySQL databases are below threshold which is 85% or 0.85. The highest CPU usage in the graph above is Chat and the lowest(or it feels like no activity at all) is SMS."
   ]
  },
  {
   "cell_type": "markdown",
   "id": "7ba51b0d-1e91-4c8c-ab2e-ae0358ff9824",
   "metadata": {},
   "source": [
    "#### 4.2 Memory Usage"
   ]
  },
  {
   "cell_type": "code",
   "execution_count": 18,
   "id": "594ecf28-d2f9-4b5b-a6a9-146dda52f8bb",
   "metadata": {},
   "outputs": [
    {
     "data": {
      "text/html": [
       "<div>\n",
       "<style scoped>\n",
       "    .dataframe tbody tr th:only-of-type {\n",
       "        vertical-align: middle;\n",
       "    }\n",
       "\n",
       "    .dataframe tbody tr th {\n",
       "        vertical-align: top;\n",
       "    }\n",
       "\n",
       "    .dataframe thead th {\n",
       "        text-align: right;\n",
       "    }\n",
       "</style>\n",
       "<table border=\"1\" class=\"dataframe\">\n",
       "  <thead>\n",
       "    <tr style=\"text-align: right;\">\n",
       "      <th></th>\n",
       "      <th>Date</th>\n",
       "      <th>Name</th>\n",
       "      <th>Type</th>\n",
       "      <th>Usage</th>\n",
       "      <th>Threshold</th>\n",
       "    </tr>\n",
       "  </thead>\n",
       "  <tbody>\n",
       "    <tr>\n",
       "      <th>31</th>\n",
       "      <td>2024-01-01</td>\n",
       "      <td>Disburse4</td>\n",
       "      <td>Memory</td>\n",
       "      <td>0.08</td>\n",
       "      <td>0.85</td>\n",
       "    </tr>\n",
       "    <tr>\n",
       "      <th>32</th>\n",
       "      <td>2024-01-02</td>\n",
       "      <td>Disburse4</td>\n",
       "      <td>Memory</td>\n",
       "      <td>0.09</td>\n",
       "      <td>0.85</td>\n",
       "    </tr>\n",
       "    <tr>\n",
       "      <th>33</th>\n",
       "      <td>2024-01-03</td>\n",
       "      <td>Disburse4</td>\n",
       "      <td>Memory</td>\n",
       "      <td>0.09</td>\n",
       "      <td>0.85</td>\n",
       "    </tr>\n",
       "    <tr>\n",
       "      <th>34</th>\n",
       "      <td>2024-01-04</td>\n",
       "      <td>Disburse4</td>\n",
       "      <td>Memory</td>\n",
       "      <td>0.09</td>\n",
       "      <td>0.85</td>\n",
       "    </tr>\n",
       "    <tr>\n",
       "      <th>35</th>\n",
       "      <td>2024-01-05</td>\n",
       "      <td>Disburse4</td>\n",
       "      <td>Memory</td>\n",
       "      <td>0.08</td>\n",
       "      <td>0.85</td>\n",
       "    </tr>\n",
       "  </tbody>\n",
       "</table>\n",
       "</div>"
      ],
      "text/plain": [
       "         Date       Name    Type  Usage  Threshold\n",
       "31 2024-01-01  Disburse4  Memory   0.08       0.85\n",
       "32 2024-01-02  Disburse4  Memory   0.09       0.85\n",
       "33 2024-01-03  Disburse4  Memory   0.09       0.85\n",
       "34 2024-01-04  Disburse4  Memory   0.09       0.85\n",
       "35 2024-01-05  Disburse4  Memory   0.08       0.85"
      ]
     },
     "execution_count": 18,
     "metadata": {},
     "output_type": "execute_result"
    }
   ],
   "source": [
    "df_Mem = df[df['Type'] == 'Memory']\n",
    "df_Mem.head()"
   ]
  },
  {
   "cell_type": "code",
   "execution_count": 19,
   "id": "ef337413-a78b-4970-b2ef-b69e00065fe7",
   "metadata": {},
   "outputs": [
    {
     "data": {
      "text/html": [
       "<div>\n",
       "<style scoped>\n",
       "    .dataframe tbody tr th:only-of-type {\n",
       "        vertical-align: middle;\n",
       "    }\n",
       "\n",
       "    .dataframe tbody tr th {\n",
       "        vertical-align: top;\n",
       "    }\n",
       "\n",
       "    .dataframe thead th {\n",
       "        text-align: right;\n",
       "    }\n",
       "</style>\n",
       "<table border=\"1\" class=\"dataframe\">\n",
       "  <thead>\n",
       "    <tr style=\"text-align: right;\">\n",
       "      <th></th>\n",
       "      <th></th>\n",
       "      <th>Usage</th>\n",
       "    </tr>\n",
       "    <tr>\n",
       "      <th>Date</th>\n",
       "      <th>Name</th>\n",
       "      <th></th>\n",
       "    </tr>\n",
       "  </thead>\n",
       "  <tbody>\n",
       "    <tr>\n",
       "      <th rowspan=\"10\" valign=\"top\">1</th>\n",
       "      <th>Chat</th>\n",
       "      <td>0.12</td>\n",
       "    </tr>\n",
       "    <tr>\n",
       "      <th>Collect</th>\n",
       "      <td>0.30</td>\n",
       "    </tr>\n",
       "    <tr>\n",
       "      <th>Credit2</th>\n",
       "      <td>0.38</td>\n",
       "    </tr>\n",
       "    <tr>\n",
       "      <th>Credit4</th>\n",
       "      <td>0.46</td>\n",
       "    </tr>\n",
       "    <tr>\n",
       "      <th>DX</th>\n",
       "      <td>0.11</td>\n",
       "    </tr>\n",
       "    <tr>\n",
       "      <th>Disburse2</th>\n",
       "      <td>0.82</td>\n",
       "    </tr>\n",
       "    <tr>\n",
       "      <th>Disburse4</th>\n",
       "      <td>0.09</td>\n",
       "    </tr>\n",
       "    <tr>\n",
       "      <th>Profile</th>\n",
       "      <td>0.06</td>\n",
       "    </tr>\n",
       "    <tr>\n",
       "      <th>SMS</th>\n",
       "      <td>0.13</td>\n",
       "    </tr>\n",
       "    <tr>\n",
       "      <th>Six</th>\n",
       "      <td>0.08</td>\n",
       "    </tr>\n",
       "  </tbody>\n",
       "</table>\n",
       "</div>"
      ],
      "text/plain": [
       "                Usage\n",
       "Date Name            \n",
       "1    Chat        0.12\n",
       "     Collect     0.30\n",
       "     Credit2     0.38\n",
       "     Credit4     0.46\n",
       "     DX          0.11\n",
       "     Disburse2   0.82\n",
       "     Disburse4   0.09\n",
       "     Profile     0.06\n",
       "     SMS         0.13\n",
       "     Six         0.08"
      ]
     },
     "execution_count": 19,
     "metadata": {},
     "output_type": "execute_result"
    }
   ],
   "source": [
    "df_Mem_gb = df_Mem.groupby([df_Mem.Date.dt.month, df_Mem.Name])['Usage'].mean().round(2)\n",
    "df_Mem_gb.to_frame()"
   ]
  },
  {
   "cell_type": "code",
   "execution_count": 20,
   "id": "5cf41077-4d25-4f92-9d3e-82bb05e40738",
   "metadata": {},
   "outputs": [
    {
     "data": {
      "image/png": "[encoded data removed]",
      "text/plain": [
       "<Figure size 1000x600 with 1 Axes>"
      ]
     },
     "metadata": {},
     "output_type": "display_data"
    }
   ],
   "source": [
    "plt.figure(figsize=(10, 6))\n",
    "sns.barplot(x='Name', y='Usage', hue='Name', data=df_Mem_gb.to_frame().reset_index())\n",
    "\n",
    "#plt.xticks(ticks=[0, 1], labels=['Non-Recession', 'Recession'])\n",
    "plt.xlabel('Database Name')\n",
    "plt.ylabel('Memory Usage')\n",
    "plt.title('Memory Usage of 10 MySQL Databases')\n",
    "\n",
    "plt.show()"
   ]
  },
  {
   "cell_type": "markdown",
   "id": "e239ab31-e89d-436f-919b-9fb4234be55e",
   "metadata": {},
   "source": [
    "Conclusion, the memory usage of all 10 MySQL databases are below threshold which is 85% or 0.85. The highest memory usage in the graph above is Disburse2 and the lowest is Profile."
   ]
  },
  {
   "cell_type": "markdown",
   "id": "74b6c39d-4b6a-4d10-bbb0-aebee6eaa505",
   "metadata": {},
   "source": [
    "#### 4.3 Disk Usage"
   ]
  },
  {
   "cell_type": "code",
   "execution_count": 21,
   "id": "a60da091-4c9d-4418-93a4-a78ff808fb09",
   "metadata": {},
   "outputs": [
    {
     "data": {
      "text/html": [
       "<div>\n",
       "<style scoped>\n",
       "    .dataframe tbody tr th:only-of-type {\n",
       "        vertical-align: middle;\n",
       "    }\n",
       "\n",
       "    .dataframe tbody tr th {\n",
       "        vertical-align: top;\n",
       "    }\n",
       "\n",
       "    .dataframe thead th {\n",
       "        text-align: right;\n",
       "    }\n",
       "</style>\n",
       "<table border=\"1\" class=\"dataframe\">\n",
       "  <thead>\n",
       "    <tr style=\"text-align: right;\">\n",
       "      <th></th>\n",
       "      <th>Date</th>\n",
       "      <th>Name</th>\n",
       "      <th>Type</th>\n",
       "      <th>Usage</th>\n",
       "      <th>Threshold</th>\n",
       "    </tr>\n",
       "  </thead>\n",
       "  <tbody>\n",
       "    <tr>\n",
       "      <th>62</th>\n",
       "      <td>2024-01-01</td>\n",
       "      <td>Disburse4</td>\n",
       "      <td>Disk</td>\n",
       "      <td>0.13</td>\n",
       "      <td>0.85</td>\n",
       "    </tr>\n",
       "    <tr>\n",
       "      <th>63</th>\n",
       "      <td>2024-01-02</td>\n",
       "      <td>Disburse4</td>\n",
       "      <td>Disk</td>\n",
       "      <td>0.13</td>\n",
       "      <td>0.85</td>\n",
       "    </tr>\n",
       "    <tr>\n",
       "      <th>64</th>\n",
       "      <td>2024-01-03</td>\n",
       "      <td>Disburse4</td>\n",
       "      <td>Disk</td>\n",
       "      <td>0.13</td>\n",
       "      <td>0.85</td>\n",
       "    </tr>\n",
       "    <tr>\n",
       "      <th>65</th>\n",
       "      <td>2024-01-04</td>\n",
       "      <td>Disburse4</td>\n",
       "      <td>Disk</td>\n",
       "      <td>0.13</td>\n",
       "      <td>0.85</td>\n",
       "    </tr>\n",
       "    <tr>\n",
       "      <th>66</th>\n",
       "      <td>2024-01-05</td>\n",
       "      <td>Disburse4</td>\n",
       "      <td>Disk</td>\n",
       "      <td>0.13</td>\n",
       "      <td>0.85</td>\n",
       "    </tr>\n",
       "  </tbody>\n",
       "</table>\n",
       "</div>"
      ],
      "text/plain": [
       "         Date       Name  Type  Usage  Threshold\n",
       "62 2024-01-01  Disburse4  Disk   0.13       0.85\n",
       "63 2024-01-02  Disburse4  Disk   0.13       0.85\n",
       "64 2024-01-03  Disburse4  Disk   0.13       0.85\n",
       "65 2024-01-04  Disburse4  Disk   0.13       0.85\n",
       "66 2024-01-05  Disburse4  Disk   0.13       0.85"
      ]
     },
     "execution_count": 21,
     "metadata": {},
     "output_type": "execute_result"
    }
   ],
   "source": [
    "df_Disk = df[df['Type'] == 'Disk']\n",
    "df_Disk.head()"
   ]
  },
  {
   "cell_type": "code",
   "execution_count": 22,
   "id": "c5536a65-0eec-4583-9bfd-6f1d60bb921c",
   "metadata": {},
   "outputs": [
    {
     "data": {
      "text/html": [
       "<div>\n",
       "<style scoped>\n",
       "    .dataframe tbody tr th:only-of-type {\n",
       "        vertical-align: middle;\n",
       "    }\n",
       "\n",
       "    .dataframe tbody tr th {\n",
       "        vertical-align: top;\n",
       "    }\n",
       "\n",
       "    .dataframe thead th {\n",
       "        text-align: right;\n",
       "    }\n",
       "</style>\n",
       "<table border=\"1\" class=\"dataframe\">\n",
       "  <thead>\n",
       "    <tr style=\"text-align: right;\">\n",
       "      <th></th>\n",
       "      <th></th>\n",
       "      <th>Usage</th>\n",
       "    </tr>\n",
       "    <tr>\n",
       "      <th>Date</th>\n",
       "      <th>Name</th>\n",
       "      <th></th>\n",
       "    </tr>\n",
       "  </thead>\n",
       "  <tbody>\n",
       "    <tr>\n",
       "      <th rowspan=\"10\" valign=\"top\">1</th>\n",
       "      <th>Chat</th>\n",
       "      <td>0.90</td>\n",
       "    </tr>\n",
       "    <tr>\n",
       "      <th>Collect</th>\n",
       "      <td>0.36</td>\n",
       "    </tr>\n",
       "    <tr>\n",
       "      <th>Credit2</th>\n",
       "      <td>0.41</td>\n",
       "    </tr>\n",
       "    <tr>\n",
       "      <th>Credit4</th>\n",
       "      <td>0.23</td>\n",
       "    </tr>\n",
       "    <tr>\n",
       "      <th>DX</th>\n",
       "      <td>0.46</td>\n",
       "    </tr>\n",
       "    <tr>\n",
       "      <th>Disburse2</th>\n",
       "      <td>0.55</td>\n",
       "    </tr>\n",
       "    <tr>\n",
       "      <th>Disburse4</th>\n",
       "      <td>0.13</td>\n",
       "    </tr>\n",
       "    <tr>\n",
       "      <th>Profile</th>\n",
       "      <td>0.08</td>\n",
       "    </tr>\n",
       "    <tr>\n",
       "      <th>SMS</th>\n",
       "      <td>0.08</td>\n",
       "    </tr>\n",
       "    <tr>\n",
       "      <th>Six</th>\n",
       "      <td>0.65</td>\n",
       "    </tr>\n",
       "  </tbody>\n",
       "</table>\n",
       "</div>"
      ],
      "text/plain": [
       "                Usage\n",
       "Date Name            \n",
       "1    Chat        0.90\n",
       "     Collect     0.36\n",
       "     Credit2     0.41\n",
       "     Credit4     0.23\n",
       "     DX          0.46\n",
       "     Disburse2   0.55\n",
       "     Disburse4   0.13\n",
       "     Profile     0.08\n",
       "     SMS         0.08\n",
       "     Six         0.65"
      ]
     },
     "execution_count": 22,
     "metadata": {},
     "output_type": "execute_result"
    }
   ],
   "source": [
    "df_Disk_gb = df_Disk.groupby([df_Disk.Date.dt.month, df_Disk.Name])['Usage'].mean().round(2)\n",
    "df_Disk_gb.to_frame()"
   ]
  },
  {
   "cell_type": "code",
   "execution_count": 25,
   "id": "1984032c-46d8-41de-8807-c4b2653a535f",
   "metadata": {},
   "outputs": [
    {
     "data": {
      "image/png": "[encoded data removed]",
      "text/plain": [
       "<Figure size 1000x600 with 1 Axes>"
      ]
     },
     "metadata": {},
     "output_type": "display_data"
    }
   ],
   "source": [
    "plt.figure(figsize=(10, 6))\n",
    "sns.barplot(x='Name', y='Usage', hue='Name', data=df_Disk_gb.to_frame().reset_index())\n",
    "\n",
    "#plt.xticks(ticks=[0, 1], labels=['Non-Recession', 'Recession'])\n",
    "plt.xlabel('Database Name')\n",
    "plt.ylabel('Disk Usage')\n",
    "plt.title('Disk Usage of 10 MySQL Databases')\n",
    "\n",
    "plt.show()"
   ]
  },
  {
   "cell_type": "markdown",
   "id": "c51021f2-d145-49c9-bc5f-14d12fa0898c",
   "metadata": {},
   "source": [
    "Conclusion, the highest disk usage in the graph above is Chat with 90% or 0.90 and the lowest are Profile and SMS."
   ]
  },
  {
   "cell_type": "markdown",
   "id": "d7ee1ed3-cd65-4406-96de-087937f9a817",
   "metadata": {},
   "source": [
    "### Conclusion"
   ]
  },
  {
   "cell_type": "markdown",
   "id": "8f52686f-5739-416c-b300-7b2775920587",
   "metadata": {},
   "source": [
    "Overall, both CPU and memory usage are below threshold which is 85% or 0.85. But, the disk usage of Chat's database is above threshold, which is 90%."
   ]
  },
  {
   "cell_type": "code",
   "execution_count": null,
   "id": "4ec239c4-b5f2-4089-8e02-142ee575e0c1",
   "metadata": {},
   "outputs": [],
   "source": []
  }
 ],
 "metadata": {
  "kernelspec": {
   "display_name": "Python 3 (ipykernel)",
   "language": "python",
   "name": "python3"
  },
  "language_info": {
   "codemirror_mode": {
    "name": "ipython",
    "version": 3
   },
   "file_extension": ".py",
   "mimetype": "text/x-python",
   "name": "python",
   "nbconvert_exporter": "python",
   "pygments_lexer": "ipython3",
   "version": "3.12.0"
  }
 },
 "nbformat": 4,
 "nbformat_minor": 5
}
